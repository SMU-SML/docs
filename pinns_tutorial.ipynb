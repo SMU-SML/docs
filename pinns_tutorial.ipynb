{
 "cells": [
  {
   "cell_type": "markdown",
   "id": "255a9e4f-bfd4-421d-97a4-e9f539e405f1",
   "metadata": {},
   "source": [
    "# Tutorials of PINNs Physical Informed Neural Network"
   ]
  },
  {
   "cell_type": "markdown",
   "id": "4f520e96-a8b6-40fb-9181-410ff38f7425",
   "metadata": {},
   "source": [
    "This is the tutorial about the implementations of physical informed neural network for the SMU SML paper reading group.  \n",
    "In the first section, the physical informed neural network is implemented based on numpy, with details about the implementations of backpropagations and the computations of residual.  \n",
    "In the second section, the implementation is based on the pytorch package.  \n",
    "All those implementations are run on my laptop. You could move those on to ManeFrame II. The last section relates to the enviroment settings on ManeFrame II in case you want to try V100/P100 GPUs on ManeFrame II."
   ]
  },
  {
   "cell_type": "markdown",
   "id": "f64340e6-28ae-4db4-a5f9-3c0565388467",
   "metadata": {},
   "source": [
    "### Section I: Implementations from scratch based on __Numpy__"
   ]
  },
  {
   "cell_type": "markdown",
   "id": "85f02943-9036-42e3-8f42-c51f8e800d6d",
   "metadata": {},
   "source": [
    "In this section, we build the neural networks from scratch based on the numpy package with specific physical laws (PDEs & ODEs) as regularizations.  \n",
    "\n",
    "This section is based on https://towardsdatascience.com/coding-a-neural-network-from-scratch-in-numpy-31f04e4d605, https://www.geeksforgeeks.org/implementation-of-neural-network-from-scratch-using-numpy/"
   ]
  },
  {
   "cell_type": "markdown",
   "id": "010c37cd-241b-4bfa-bffd-734776ac33ad",
   "metadata": {},
   "source": [
    "Let's give a short review first.  \n",
    "\n",
    "The feed forward neural network, or deep neural network is the mathematical model of neural connections in brain, with trainable weights and activation functions with bias that simulate the intensities of the connections between each neuron, or the concentrations of the neurotransmitters at the synapse between each neuron, and the activation with specific threshold of every neuron, respectively. (Biological terminologies are from https://www.inf.ed.ac.uk/teaching/courses/nlu/assets/reading/Gurney_et_al.pdf, this is a really nice book). Mathematically, The architecture of neural network with one neuron has form\n",
    "$$\n",
    "A = \\sigma(\\sum_i^n\\omega_i*x_i + b),\n",
    "$$\n",
    "where $\\omega_i, i=1\\ldots n$ are the weights (the intensities of the connections between each neuron), and $\\sigma$ is the activation function with threshold $b$. \n",
    "\n",
    "And the neurons could also be sumed with several trainable weights\n",
    "$$\n",
    "A = \\sum_j^m W_j\\sigma(\\sum_i^n\\omega_{ij}x_i + b_j)\n",
    "$$\n",
    "which is a layer of neurons. The neurons are called the hidden neurons, thus the layer may also be refered as hidden layers.\n",
    "\n",
    "Thus, the deep neural network are the stack of several hidden layers,\n",
    "$$\n",
    "\\tag{1}\n",
    "A = \\sum_j^m W_j\\sigma(\\ldots \\sigma(\\sum_i^n\\omega_{i\\cdot}x + b_\\cdot)+ \\ldots + b_j)\n",
    "$$\n",
    "where the $\\cdot$ in the inner most layer means the index of the neurons in the next layer.\n",
    "For the last layer, or the layer intermediate to the output, sometimes we get rid of the bias for that layer, as shown in Eq. (1). \n",
    "\n",
    "We could also write these architecture by matrix form\n",
    "$$\\tag{2}\n",
    "A = \\boldsymbol{W_n}\\sigma(\\ldots \\sigma(\\boldsymbol{W}_1 x + \\boldsymbol{b}_1) +\\ldots + \\boldsymbol{b}_n)\n",
    "$$\n",
    "with $\\boldsymbol{W}_n$ as the weight matricies and $\\boldsymbol{b}_n$ as the bias vectors.\n",
    "\n",
    "<img src=\"https://media.geeksforgeeks.org/wp-content/uploads/20200522110034/NURELNETWORK.jpg\" alt=\"drawing\" width=\"600\"/>\n",
    "\n",
    "*The schematics of a 1 hidden layer neral network with 5 hidden neurons, 30 input dimentions, and 3 output dimensions. The weights $\\boldsymbol{W}_1$ for the input $\\boldsymbol{x}$ is a $30\\times 5$ matrix. The bias vector $\\boldsymbol{b}_1$ has shape $5\\times 1$. The weights $\\boldsymbol{W}_2$ for the output has shape $5\\times 3$.*\n"
   ]
  },
  {
   "cell_type": "markdown",
   "id": "3ed615ab-66f4-452a-9246-073bf691ff30",
   "metadata": {},
   "source": [
    "Now, We build the neural networks by numpy from scratch to give an intuitive understanding about the backpropagations. To simplify the coding, we only implement the neural network with 1 hidden layer."
   ]
  },
  {
   "cell_type": "markdown",
   "id": "2f9c85a6-861e-4cd7-b915-a6c0acce2aa9",
   "metadata": {},
   "source": [
    "#### Activation Functions\n",
    "First, we implement the activation function, the considered activation function is sigmoid(x)\n",
    "\n",
    "$$\n",
    "\\sigma(x) = \\dfrac{1}{1+e^{-x}}\n",
    "$$"
   ]
  },
  {
   "cell_type": "code",
   "execution_count": null,
   "id": "746c1041-a3ab-4a68-a81b-152740f57758",
   "metadata": {},
   "outputs": [],
   "source": [
    "import numpy as np\n",
    "def sigmoid(x):\n",
    "    return 1/(1 + np.exp(-x))"
   ]
  },
  {
   "cell_type": "markdown",
   "id": "caf6bd44-5f50-4832-94cb-71eb99efc966",
   "metadata": {},
   "source": [
    "#### Creating the Feed forward neural network\n",
    "\n",
    "Now we consider a 1 hidden layer neural network with 50 hidden neurons in the hidden layer.\n",
    "- 1 Input layer (1)\n",
    "- 1 hidden layer (50)\n",
    "- 1 output layer (1)"
   ]
  },
  {
   "cell_type": "code",
   "execution_count": null,
   "id": "1de7e96d-bffb-4f8f-b654-a5227da6a006",
   "metadata": {},
   "outputs": [],
   "source": [
    "def f_forward(t, w1, b1, w2):\n",
    "    # hidden\n",
    "    z1 = t.dot(w1) + b1# input from layer 1\n",
    "    a1 = sigmoid(z1)# out put of layer 2\n",
    "\n",
    "    # Output layer\n",
    "    a2 = a1.dot(w2)# input of out layer\n",
    "    return a2"
   ]
  },
  {
   "cell_type": "markdown",
   "id": "032b3944-8d83-4047-98a1-c91314fa7b51",
   "metadata": {},
   "source": [
    "The problem we consider to solve is a first-order ode\n",
    "$$ \n",
    "u^{\\prime} = u, \\;\\;\\; t \\in [0,1],\n",
    "$$\n",
    "with initial condition $u(0) = 1$\n",
    "\n",
    "Let $u_{\\theta}$ be the neural network with parameters $\\theta$ sovling the ode. Thus, the corresponding loss we considered has 2 part, the residual $\\int_0^1 (u_{\\theta}^{\\prime} - u_{\\theta})^2dt$ and the boundary loss $(u_{\\theta}(0) - 1)^2$. The residual is approximated by \n",
    "$$\n",
    "\\int_0^1 (u_{\\theta}^{\\prime} - u_{\\theta})^2 dt \\approx \\dfrac{1}{n}\\sum_i (u_\\theta^{\\prime}(t_i) - u_\\theta(t_i))^2\n",
    "$$"
   ]
  },
  {
   "cell_type": "code",
   "execution_count": null,
   "id": "9a8ddc7f-b2ae-4937-b8ef-5d46cae9a25b",
   "metadata": {},
   "outputs": [],
   "source": [
    "def loss(u, u_prime, u0):\n",
    "    # Residual\n",
    "    s =(np.square(u - u_prime))\n",
    "    s = np.mean(s)\n",
    "    # boundary loss\n",
    "    s = s + np.square(u0-1.)\n",
    "    return s"
   ]
  },
  {
   "cell_type": "markdown",
   "id": "c90b6f95-23a3-475b-98cf-93eb247fb7e9",
   "metadata": {},
   "source": [
    "To compute the derivative $\\dfrac{\\partial }{\\partial t} u_\\theta$, we could first derive it by hand\n",
    "\n",
    "$$\n",
    "\\begin{aligned}\n",
    "\\dfrac{\\partial }{\\partial t} u_\\theta & = \\dfrac{\\partial }{\\partial t} \\boldsymbol{W_2}\\sigma(\\boldsymbol{W}_1 t + \\boldsymbol{b}_1) \\\\\n",
    "                                       & = \\boldsymbol{W_2}[\\sigma^{\\prime}(\\boldsymbol{W}_1 t + \\boldsymbol{b}_1)\\odot \\boldsymbol{W}_{1}]\n",
    "\\end{aligned}\n",
    "$$\n",
    "with $\\odot$ as the elementwise multiplications.\n",
    "\n",
    "Note $\\sigma^{\\prime}(x) = \\sigma(x)\\cdot(1-\\sigma(x))$"
   ]
  },
  {
   "cell_type": "code",
   "execution_count": null,
   "id": "52930eef-51ea-4457-967d-f12cac47a83e",
   "metadata": {},
   "outputs": [],
   "source": [
    "def dudt(t, W1,b1,W2):\n",
    "    # hidden layer\n",
    "    z1 = t.dot(w1)+b1# input from layer 1\n",
    "    a1 = sigmoid(z1)# output of hidden Layer\n",
    "    InSquareBracket = np.multiply(np.multiply(a1, 1-a1), W1) # \\sigma^{\\prime}(W_1 x + b_1)\\odot W_1\n",
    "    u_t = InSquareBracket.dot(w2)\n",
    "    return u_t   \n",
    "    "
   ]
  },
  {
   "cell_type": "markdown",
   "id": "6bef2c18-4667-4e12-af9a-8b7c00831789",
   "metadata": {},
   "source": [
    "Now we implement the backpropagation with respect to the parameters $\\boldsymbol{W}_1, \\boldsymbol{b}_1, \\boldsymbol{W}_2$.\n",
    "\n",
    "According to the loss, \n",
    "\n",
    "$$\n",
    "\\begin{aligned}\n",
    "\\mathcal{L}(\\theta) &= (u_{\\theta}(0) - 1)^2 + \\dfrac{1}{n}\\sum_i (  u_\\theta^{\\prime}(t_i) - u_\\theta(t_i))^2\n",
    "\\end{aligned}\n",
    "$$\n",
    "\n",
    "To find the best opproximation, we consider to minimize the loss by gradient descent method. \n",
    "\n",
    "The derivative of loss $\\mathcal{L}$ with respect to $\\boldsymbol{W}_1, \\boldsymbol{b}_1, \\boldsymbol{W}_2$ should have form\n",
    "$$\n",
    "\\begin{aligned}\n",
    "\\dfrac{\\partial}{\\partial \\boldsymbol{W}_1} \\mathcal{L}(\\theta) &= \\dfrac{\\partial}{\\partial \\boldsymbol{W}_1}\\left[ (\\boldsymbol{W_2}\\sigma(\\boldsymbol{W}_1 0 + \\boldsymbol{b}_1) - 1)^2 + \\dfrac{1}{n}\\sum_i (  \\boldsymbol{W_2}[\\sigma^{\\prime}(\\boldsymbol{W}_1 t_i + \\boldsymbol{b}_1)\\odot \\boldsymbol{W}_{1}] - \\boldsymbol{W_2}\\sigma(\\boldsymbol{W}_1 t_i + \\boldsymbol{b}_1))^2\\right]\\\\\n",
    "& = \\dfrac{1}{n}\\sum_i 2 \\left\\{ \\boldsymbol{W_2}[\\sigma^{\\prime}(\\boldsymbol{W}_1 t_i + \\boldsymbol{b}_1)\\odot \\boldsymbol{W}_{1}] - \\boldsymbol{W_2}\\sigma(\\boldsymbol{W}_1 t_i + \\boldsymbol{b}_1)\\right\\} \\left\\{ \\boldsymbol{W_2}\\odot[t_i \\sigma^{\\prime\\prime}(\\boldsymbol{W}_1 t_i + \\boldsymbol{b}_1)\\odot \\boldsymbol{W}_{1} + \\sigma^{\\prime}(\\boldsymbol{W}_1 t_i + \\boldsymbol{b}_1)] - \\boldsymbol{W_2}\\odot\\sigma^{\\prime}(\\boldsymbol{W}_1 t_i + \\boldsymbol{b}_1)t_i\\right\\}\\\\\n",
    "\\end{aligned}\n",
    "$$\n",
    "\n",
    "$$\n",
    "\\begin{aligned}\n",
    "\\dfrac{\\partial}{\\partial \\boldsymbol{b}_1} \\mathcal{L}(\\theta) &= \\dfrac{\\partial}{\\partial \\boldsymbol{b}_1}\\left[ (\\boldsymbol{W_2}\\sigma(\\boldsymbol{W}_1 0 + \\boldsymbol{b}_1) - 1)^2 + \\dfrac{1}{n}\\sum_i (  \\boldsymbol{W_2}[\\sigma^{\\prime}(\\boldsymbol{W}_1 t_i + \\boldsymbol{b}_1)\\odot \\boldsymbol{W}_{1}] - \\boldsymbol{W_2}\\sigma(\\boldsymbol{W}_1 t_i + \\boldsymbol{b}_1))^2\\right]\\\\\n",
    "& = 2 (\\boldsymbol{W_2}\\sigma(\\boldsymbol{b}_1) - 1)(\\boldsymbol{W_2}\\odot\\sigma^{\\prime}(\\boldsymbol{b}_1)) + \\dfrac{1}{n}\\sum_i 2 \\left\\{  \\boldsymbol{W_2}[\\sigma^{\\prime}(\\boldsymbol{W}_1 t_i + \\boldsymbol{b}_1)\\odot \\boldsymbol{W}_{1}] - \\boldsymbol{W_2}\\sigma(\\boldsymbol{W}_1 t_i + \\boldsymbol{b}_1)\\right\\} \\left\\{   \\boldsymbol{W_2}\\odot[ \\sigma^{\\prime\\prime}(\\boldsymbol{W}_1 t_i + \\boldsymbol{b}_1)\\odot \\boldsymbol{W}_{1}]  - \\boldsymbol{W_2}\\odot\\sigma^{\\prime}(\\boldsymbol{W}_1 t_i + \\boldsymbol{b}_1)\\right\\}\\\\\n",
    "\\end{aligned}\n",
    "$$\n",
    "\n",
    "$$\n",
    "\\begin{aligned}\n",
    "\\dfrac{\\partial}{\\partial \\boldsymbol{W}_2} \\mathcal{L}(\\theta) &= \\dfrac{\\partial}{\\partial \\boldsymbol{W}_2}\\left[ (\\boldsymbol{W_2}\\sigma(\\boldsymbol{W}_1 0 + \\boldsymbol{b}_1) - 1)^2 + \\dfrac{1}{n}\\sum_i (  \\boldsymbol{W_2}[\\sigma^{\\prime}(\\boldsymbol{W}_1 t_i + \\boldsymbol{b}_1)\\odot \\boldsymbol{W}_{1}] - \\boldsymbol{W_2}\\sigma(\\boldsymbol{W}_1 t_i + \\boldsymbol{b}_1))^2\\right]\\\\\n",
    "& = 2 (\\boldsymbol{W_2}\\sigma(\\boldsymbol{b}_1) - 1)(\\sigma^{}(\\boldsymbol{b}_1)) + \\dfrac{1}{n}\\sum_i 2 \\left\\{  \\boldsymbol{W_2}[\\sigma^{\\prime}(\\boldsymbol{W}_1 t_i + \\boldsymbol{b}_1)\\odot \\boldsymbol{W}_{1}] - \\boldsymbol{W_2}\\sigma(\\boldsymbol{W}_1 t_i + \\boldsymbol{b}_1)\\right\\} \\left\\{   [ \\sigma^{\\prime}(\\boldsymbol{W}_1 t_i + \\boldsymbol{b}_1)\\odot \\boldsymbol{W}_{1}]  - \\sigma^{}(\\boldsymbol{W}_1 t_i + \\boldsymbol{b}_1)\\right\\}\\\\\n",
    "\\end{aligned}\n",
    "$$"
   ]
  },
  {
   "cell_type": "markdown",
   "id": "73839d19-4132-4abd-ae13-99bd9f9dfe85",
   "metadata": {},
   "source": [
    "**I strongly recommend you to derive those derivatives!** \n",
    "\n",
    "Now by change of variables, \n",
    "   $$\n",
    "    \\begin{aligned}\n",
    "        a_i &= \\sigma \\left( \\boldsymbol{W}_{1} t_{i} + \\boldsymbol{b}_{1} \\right)\\\\\n",
    "        \\sigma^{\\prime}\\left( \\boldsymbol{W}_{1}t_{i} + \\boldsymbol{b}_{1} \\right) &= a_{i}\\odot\\left( 1-a_{i} \\right)\\\\\n",
    "        \\sigma^{\\prime\\prime}\\left( \\boldsymbol{W}_{1}t_{i} + \\boldsymbol{b}_{1} \\right) &= \\left( 1-2a_{i} \\right)\\odot a_{i}\\odot\\left( 1-a_{i} \\right)\\\\\n",
    "     \\end{aligned}\n",
    "    $$\n",
    "we could see the derivative more clearly.\n",
    "\n",
    "$$\n",
    "\\dfrac{\\partial}{\\partial \\boldsymbol{W}_1} \\mathcal{L}(\\theta) = \\dfrac{1}{n} \\sum_i 2 \\left\\{ \\boldsymbol{W_2}\\cdot[a_i\\odot(1-a_i) \\odot \\boldsymbol{W}_{1}] - \\boldsymbol{W_2}\\cdot a_i\\right\\} \\left\\{ \\boldsymbol{W_2}\\odot[t_i\\left( 1-2a_{i} \\right)\\odot a_{i}\\odot\\left( 1-a_{i} \\right)\\odot \\boldsymbol{W}_{1} + a_{i}\\odot\\left( 1-a_{i} \\right)] - \\boldsymbol{W_2}\\odot a_{i}\\odot\\left( 1-a_{i} \\right)t_i\\right\\}\n",
    "$$\n",
    "\n",
    "$$\n",
    "\\dfrac{\\partial}{\\partial \\boldsymbol{b}_1} \\mathcal{L}(\\theta) =  2 (\\boldsymbol{W_2}\\cdot\\sigma(\\boldsymbol{b}_1) - 1)\\boldsymbol{W_2}\\odot\\sigma^{\\prime}(\\boldsymbol{b}_1) + \\dfrac{1}{n}\\sum_i 2 \\left\\{  \\boldsymbol{W_2}\\cdot[a_{i}\\odot\\left( 1-a_{i} \\right)\\odot \\boldsymbol{W}_{1}] - \\boldsymbol{W_2}\\cdot a_i\\right\\} \\left\\{   \\boldsymbol{W_2}\\odot \\left( 1-2a_{i} \\right)\\odot a_{i}\\odot\\left( 1-a_{i} \\right)\\odot \\boldsymbol{W}_{1}  - \\boldsymbol{W_2}\\odot a_{i}\\odot\\left( 1-a_{i} \\right)\\right\\}\n",
    "$$\n",
    "\n",
    "$$\n",
    "\\dfrac{\\partial}{\\partial \\boldsymbol{W}_2} \\mathcal{L}(\\theta) = 2 (\\boldsymbol{W_2}\\cdot\\sigma(\\boldsymbol{b}_1) - 1)\\sigma^{}(\\boldsymbol{b}_1) + \\dfrac{1}{n}\\sum_i 2 \\left\\{  \\boldsymbol{W_2}\\cdot[a_{i}\\odot\\left( 1-a_{i} \\right)\\odot \\boldsymbol{W}_{1}] - \\boldsymbol{W_2}\\cdot a_i\\right\\} \\left\\{   a_{i}\\odot\\left( 1-a_{i} \\right)\\odot \\boldsymbol{W}_{1}  - a_i\\right\\}\n",
    "$$\n"
   ]
  },
  {
   "cell_type": "markdown",
   "id": "f6270cd2-d5ec-4a40-91a1-1bd3eac0a6c5",
   "metadata": {
    "tags": []
   },
   "source": [
    "Furthermore, Let \n",
    "$$\n",
    "    \\begin{aligned}\n",
    "        \\boldsymbol{a} &= \\sigma \\left( \\boldsymbol{W}_{1} \\boldsymbol{t}+ \\boldsymbol{b}_{1} \\right)\\\\\n",
    "        \\boldsymbol{o} &= \\boldsymbol{W}_{2}\\cdot \\boldsymbol{a}\\\\\n",
    "        d_r&=  2 \\boldsymbol{a}\\odot \\left( 1-\\boldsymbol{a} \\right) \\odot \\boldsymbol{W}_{1}\\cdot \\boldsymbol{W}_{2} - \\boldsymbol{o}\\\\\n",
    "        dd_r&= \\boldsymbol{W}_{2}^{T}\\odot W_1 \\odot \\left( 1- 2 \\boldsymbol{a} \\right) \\odot \\boldsymbol{a}\\odot \\left( 1-\\boldsymbol{a} \\right)\\\\\n",
    "        w2_{dt} &= \\boldsymbol{W}_{2}^{T}\\odot \\boldsymbol{a} \\odot \\left( 1-\\boldsymbol{a} \\right)\n",
    "     \\end{aligned}\n",
    "$$\n",
    "\n",
    "Note here $\\boldsymbol{a}$ is a matrix with shape (batch_size, 50), so the elementwise multiplication of $\\boldsymbol{a}$ with $\\boldsymbol{W}$ should be understood as that $\\boldsymbol{W}$ is broadcastting along the batch axis first ( from shape (1,50) -> (batch_size, 50)), then do the elementwise multiplication with $\\boldsymbol{a}$.\n"
   ]
  },
  {
   "cell_type": "markdown",
   "id": "237cd700-4f73-41fb-92e1-b12835ed0bb7",
   "metadata": {},
   "source": [
    "__When implementing those structures, keep eyes on the shape of the inputs and outputs!__"
   ]
  },
  {
   "cell_type": "code",
   "execution_count": null,
   "id": "59c63a6c-a324-4f21-8943-6d25b97cab52",
   "metadata": {},
   "outputs": [],
   "source": [
    "\n",
    "   \n",
    "# Back propagation of error\n",
    "def back_prop(t, t0, w1, b1, w2, alpha):\n",
    "    # t  shape: batch_size x 1\n",
    "    # W1 shape: 1 x 50\n",
    "    # b1 shape: 1 x 50\n",
    "    # W2 shape: 50 x 1\n",
    "     \n",
    "    # hidden layer\n",
    "    z1 = t.dot(w1) + b1# input from layer 1: batch_size x 50\n",
    "    a = sigmoid(z1)# output of layer 2: batch_size x 50\n",
    "     \n",
    "    # Output layer\n",
    "    o = a.dot(w2)# input of out layer: batch_size x 1\n",
    "\n",
    "    \n",
    "    # Initial Condition\n",
    "    z10 = t0.dot(w1) + b1\n",
    "    a0 = sigmoid(z10)\n",
    "    o0 = a0.dot(w2)\n",
    "    \n",
    "    \n",
    "    # difference in the output layer from initial conditions\n",
    "    d_i = 2*(o0 - 1) # shape 1 x 1\n",
    "    \n",
    "    # difference in the output layer from the residual\n",
    "    d_r = 2*(np.multiply(np.multiply(a, 1-a), w1).dot(w2) - o) # shape: batch_size x 1\n",
    "    dd_r = np.multiply(w2.transpose(), np.multiply(np.multiply(np.multiply(1- 2*a, a), 1 - a), w1)) # shape: batch_size x 50\n",
    "    w2_dt = np.multiply(w2.transpose(), np.multiply(a, 1-a))\n",
    "    dsigmab = np.multiply(sigmoid(b1), 1- sigmoid(b1))\n",
    "    \n",
    "    \n",
    "    # Gradient for w1 and w2\n",
    "    dL_dw1= np.mean( np.multiply(d_r, np.multiply(dd_r, t) + np.multiply(w2_dt, 1-t)) ,axis=0, keepdims=True)\n",
    "    dL_db1= np.mean( np.multiply(d_r, dd_r - w2_dt), axis=0, keepdims=True) + d_i*np.multiply(w2.transpose(), dsigmab)\n",
    "    dL_dw2= (np.mean(np.multiply(d_r, np.multiply(np.multiply(a, 1-a), w1) - a), axis=0, keepdims=True) + d_i*sigmoid(b1)).reshape(-1,1)\n",
    "     \n",
    "    # Updating parameters\n",
    "    w1 = w1-(alpha*(dL_dw1))\n",
    "    w2 = w2-(alpha*(dL_dw2))\n",
    "    b1 = b1-(alpha*(dL_db1))\n",
    "\n",
    "\n",
    "    return w1,b1,w2"
   ]
  },
  {
   "cell_type": "markdown",
   "id": "03daadc3-63ec-4d36-aee7-f1bb9c506a2f",
   "metadata": {},
   "source": [
    "Now we could implement the train function."
   ]
  },
  {
   "cell_type": "code",
   "execution_count": null,
   "id": "ef28353a-1c2a-4f3b-a8e1-ede90c296841",
   "metadata": {},
   "outputs": [],
   "source": [
    "def train(w1, b1, w2, alpha=0.01, epoch=100):\n",
    "    losss = []\n",
    "    t0 = np.zeros((1,1)) # Initial conditions\n",
    "    # Let we assume the batch_size is 100, for every epoch, the neural network train 20 steps\n",
    "    batch_size = 100\n",
    "    steps = 40\n",
    "    for j in range(epoch):\n",
    "        l = []\n",
    "        for i in range(steps):\n",
    "            t = np.random.uniform(size=(batch_size,1)) # generate random t\n",
    "            u = f_forward(t, w1, b1, w2)\n",
    "            uprime = dudt(t, w1, b1, w2)\n",
    "            u0 = f_forward(t0, w1, b1, w2) # initial conditions\n",
    "            l.append(loss(u, uprime, u0))\n",
    "            w1, b1, w2 = back_prop(t, t0, w1, b1, w2, alpha)\n",
    "        print(\"epochs:\", j + 1, \"======== Loss:\", ((sum(l)/len(l))))  \n",
    "        losss.append(sum(l)/len(l))\n",
    "    return losss, w1, b1, w2"
   ]
  },
  {
   "cell_type": "markdown",
   "id": "89452061-5212-4ca8-8971-952c57587e9b",
   "metadata": {},
   "source": [
    "Now we initialize the weights and bias"
   ]
  },
  {
   "cell_type": "code",
   "execution_count": null,
   "id": "7f065bc9-77fb-410a-b831-3017a64e5fdf",
   "metadata": {},
   "outputs": [],
   "source": [
    "# initializing the weights randomly\n",
    "def generate_wt(x, y):\n",
    "    l =[]\n",
    "    for i in range(x * y):\n",
    "        l.append(np.random.randn())\n",
    "    return(np.array(l).reshape(x, y))\n"
   ]
  },
  {
   "cell_type": "code",
   "execution_count": null,
   "id": "294625b4-05a3-4f6a-aa18-0e42a65de01f",
   "metadata": {},
   "outputs": [],
   "source": [
    "w1 = generate_wt(1, 50)\n",
    "b1 = generate_wt(1, 50)\n",
    "w2 = generate_wt(50, 1)"
   ]
  },
  {
   "cell_type": "code",
   "execution_count": null,
   "id": "eff35a37-67d9-4cb7-a0f6-f4bf5f4115b2",
   "metadata": {},
   "outputs": [],
   "source": [
    "print(w1.shape)\n",
    "print(w2.shape)\n",
    "print(b1.shape)"
   ]
  },
  {
   "cell_type": "code",
   "execution_count": null,
   "id": "eef8b48e-601d-42ee-a625-15c29f1485d3",
   "metadata": {},
   "outputs": [],
   "source": [
    "def pred(w1,b1, w2):\n",
    "    t = np.linspace(0,1,100).reshape(100,1)\n",
    "    out = f_forward(t, w1, b1, w2)\n",
    "    import matplotlib.pyplot as plt\n",
    "    plt.figure()\n",
    "    plt.plot(t, np.exp(t), label='Exact')\n",
    "    plt.plot(t, out,'--', label='pred')\n",
    "    plt.legend()\n",
    "    plt.show()\n",
    "    plt.close()"
   ]
  },
  {
   "cell_type": "markdown",
   "id": "4e8eefdc-fa29-4ae9-9526-9dbf9a708996",
   "metadata": {},
   "source": [
    "train the model"
   ]
  },
  {
   "cell_type": "code",
   "execution_count": null,
   "id": "59655de5-cf90-4614-a800-b239bc57f110",
   "metadata": {
    "tags": []
   },
   "outputs": [],
   "source": [
    "losss ,w1, b1, w2 = train(w1, b1, w2,alpha=0.02)"
   ]
  },
  {
   "cell_type": "code",
   "execution_count": null,
   "id": "e158e512-ecc2-4522-902b-3b03055c3465",
   "metadata": {},
   "outputs": [],
   "source": [
    "pred(w1,b1,w2)"
   ]
  },
  {
   "cell_type": "markdown",
   "id": "63f05925-8de4-4bce-b0d7-15de8c9fb620",
   "metadata": {},
   "source": [
    "### Section II: Implementaions based on __Pytorch__\n",
    "For this section, I assume you know how to install pyptorch and has some basic knowledge about python class & method & module."
   ]
  },
  {
   "cell_type": "code",
   "execution_count": 1,
   "id": "08e06a31-3ca0-43f1-8324-c5a198982ede",
   "metadata": {},
   "outputs": [],
   "source": [
    "import torch"
   ]
  },
  {
   "cell_type": "markdown",
   "id": "dfc5012c-4e21-4dc8-8559-1f14fef19b97",
   "metadata": {},
   "source": [
    "Since the pytorch package has already packed the hidden layers we metioned above by `nn.linear`, we could build the neural network by `nn.Sequential`"
   ]
  },
  {
   "cell_type": "code",
   "execution_count": 25,
   "id": "0a464465-ad63-4eab-9f6b-1640195eb5fc",
   "metadata": {},
   "outputs": [],
   "source": [
    "model = torch.nn.Sequential(\n",
    "        torch.nn.Linear(1,50),\n",
    "        torch.nn.Sigmoid(),\n",
    "        torch.nn.Linear(50,1, bias=False)\n",
    "        )"
   ]
  },
  {
   "cell_type": "markdown",
   "id": "be0b6f26-98e3-4d46-9e90-71369d082e5f",
   "metadata": {},
   "source": [
    "Now we define the loss"
   ]
  },
  {
   "cell_type": "code",
   "execution_count": 28,
   "id": "4e82e87e-0016-4617-8fa5-ba40429a363e",
   "metadata": {},
   "outputs": [],
   "source": [
    "def Loss(t, u0,t0):\n",
    "    upred = model(t)\n",
    "    # the u' is computed by torch.autograd.grad\n",
    "    u_prime = torch.autograd.grad(upred, t, grad_outputs = torch.ones_like(t), retain_graph=True, create_graph=True)\n",
    "    # Note the create_graph and retain_graph attributes are really important\n",
    "    residual = torch.mean(torch.square(u_prime[0] - upred))\n",
    "    u0pred = model(t0)\n",
    "    init_loss = torch.mean(torch.square(u0pred - u0))\n",
    "    return residual + 10*init_loss\n",
    "    "
   ]
  },
  {
   "cell_type": "markdown",
   "id": "db666b9c-d159-4f59-9bbe-a87ab2d43266",
   "metadata": {},
   "source": [
    "Note for the pytorch package, we could compute the gradient by the `torch.autograd.grad` method. In this case, the `grad_outputs=` works as the vector in the jacobian vector product. \n",
    "\n",
    "Mathematically speaking, without setting `grad_outputs=`, the method `torch.autograd.grad` compute the jacobian of vector function $u_\\theta(t0), u_\\theta(t1), \\ldots, u_\\theta(t_n) $ with respect to each $t_i$\n",
    "\n",
    "$$\n",
    "\\begin{bmatrix}\n",
    "    \\dfrac{\\partial u_{\\theta}\\left( t_0 \\right)}{\\partial t_0} & \\dfrac{\\partial u_{\\theta}\\left( t_0 \\right)}{\\partial t_1} & \\ldots & \\dfrac{\\partial u_{\\theta}\\left( t_{0} \\right)}{\\partial t_n}\\\\\n",
    "    \\dfrac{\\partial u_{\\theta}\\left( t_1 \\right)}{\\partial t_0} & \\dfrac{\\partial u_{\\theta}\\left( t_1 \\right)}{\\partial t_1} & \\ldots & \\dfrac{\\partial u_{\\theta}\\left( t_{1} \\right)}{\\partial t_n}\\\\\n",
    "    \\vdots & \\vdots &\\ddots & \\vdots\\\\\n",
    "    \\dfrac{\\partial u_{\\theta}\\left( t_n \\right)}{\\partial t_0} & \\dfrac{\\partial u_{\\theta}\\left( t_n \\right)}{\\partial t_1} & \\ldots & \\dfrac{\\partial u_{\\theta}\\left( t_{n} \\right)}{\\partial t_n}\n",
    "\\end{bmatrix}\n",
    "$$\n",
    "\n",
    "Here, I did some simplifications of the notiation, to be more precisely, every partial derivative is the value \n",
    "$$\n",
    "\\dfrac{\\partial u_{\\theta}\\left( t_i \\right)}{\\partial t_j} = \\left.\\dfrac{\\partial u_{\\theta}\\left( t_i \\right)}{\\partial t_j}\\right|_{t_i = t_i}\n",
    "$$\n",
    "i.e., the value of $\\dfrac{\\partial u_{\\theta}\\left( t_i \\right)}{\\partial t_j}$ at point $t_i$. \n",
    "\n",
    "So we may observe most of the components in the jacobian is $0$. By multiplying the `grad_outputs=torch.ones_like(t)` which is the gradient from the previous layer with respect to the input, shown as the vector on the right hand side, \n",
    "$$\n",
    "\\begin{bmatrix}\n",
    "    \\dfrac{\\partial u_{\\theta}\\left( t_0 \\right)}{\\partial t_0} & \\dfrac{\\partial u_{\\theta}\\left( t_0 \\right)}{\\partial t_1} & \\ldots & \\dfrac{\\partial u_{\\theta}\\left( t_{0} \\right)}{\\partial t_n}\\\\\n",
    "    \\dfrac{\\partial u_{\\theta}\\left( t_1 \\right)}{\\partial t_0} & \\dfrac{\\partial u_{\\theta}\\left( t_1 \\right)}{\\partial t_1} & \\ldots & \\dfrac{\\partial u_{\\theta}\\left( t_{1} \\right)}{\\partial t_n}\\\\\n",
    "    \\vdots & \\vdots &\\ddots & \\vdots\\\\\n",
    "    \\dfrac{\\partial u_{\\theta}\\left( t_n \\right)}{\\partial t_0} & \\dfrac{\\partial u_{\\theta}\\left( t_n \\right)}{\\partial t_1} & \\ldots & \\dfrac{\\partial u_{\\theta}\\left( t_{n} \\right)}{\\partial t_n}\n",
    "\\end{bmatrix}\n",
    "\\cdot\n",
    "\\begin{bmatrix}\n",
    "\\dfrac{\\partial t_0}{\\partial t_0} \\\\\n",
    "\\dfrac{\\partial t_1}{\\partial t_1} \\\\\n",
    "\\vdots\\\\\n",
    "\\dfrac{\\partial t_{n}}{\\partial t_{n}}\n",
    "\\end{bmatrix}\n",
    "$$\n",
    "we could obtain the gradient from the outputs of the model to the inputs of the model. (Recall the **chain rule** here)"
   ]
  },
  {
   "cell_type": "markdown",
   "id": "35e7a758-3a2b-4e98-a56c-3d7e4de6d0dc",
   "metadata": {},
   "source": [
    "#### torch.autograd.grad\n",
    "\n",
    "Note the `create_graph` & `retain_graph` attributes in the `torch.autograd.grad(upred, t, grad_outputs = torch.ones_like(t), retain_graph=True, create_graph=True)`, both of them need to be true. \n",
    "Plainly speaking, pytorch creates a dynamic graph when computing the gradients, which means it will be destroyed once the computation is finished. For the problems with PDE as loss, we need to compute the gradient of the outputs with respect to the input, the dynamic graph will be created during computation, once we obtain the gradients, the graph is destroyed. After this, every time you call `torch.autograd.grad(upred, t, grad_outputs = torch.ones_like(t), retain_graph=True, create_graph=True)`, pytorch will not create a graph. \n",
    "\n",
    "So, we need to retain the created graph for further computation like backpropagation with respect to the parameters, thus set `retain_graph=True`.\n",
    "\n",
    "On the other hand, if the `create_graph` is false, the created graph will not be put into the dynamic computational graph of the neural network, which means the residual will not be back propagated to every parameters even though the residual is computed.\n",
    "\n",
    "In the code block below, it is a very fast verification for the case with `create_graph=False`, `l.backward()` is the step that computing the gradients for each parameters. The computed gradients are stored in the `param.grad`."
   ]
  },
  {
   "cell_type": "code",
   "execution_count": 46,
   "id": "232082f7-5bab-43a0-8a63-fc9a2a91aecb",
   "metadata": {},
   "outputs": [
    {
     "ename": "RuntimeError",
     "evalue": "element 0 of tensors does not require grad and does not have a grad_fn",
     "output_type": "error",
     "traceback": [
      "\u001b[0;31m---------------------------------------------------------------------------\u001b[0m",
      "\u001b[0;31mRuntimeError\u001b[0m                              Traceback (most recent call last)",
      "Cell \u001b[0;32mIn [46], line 8\u001b[0m\n\u001b[1;32m      6\u001b[0m l \u001b[38;5;241m=\u001b[39m torch\u001b[38;5;241m.\u001b[39mmean(u_prime[\u001b[38;5;241m0\u001b[39m])\n\u001b[1;32m      7\u001b[0m optimizer\u001b[38;5;241m.\u001b[39mzero_grad()\n\u001b[0;32m----> 8\u001b[0m \u001b[43ml\u001b[49m\u001b[38;5;241;43m.\u001b[39;49m\u001b[43mbackward\u001b[49m\u001b[43m(\u001b[49m\u001b[43m)\u001b[49m\n\u001b[1;32m      9\u001b[0m \u001b[38;5;28mprint\u001b[39m([param\u001b[38;5;241m.\u001b[39mgrad \u001b[38;5;28;01mfor\u001b[39;00m param \u001b[38;5;129;01min\u001b[39;00m model\u001b[38;5;241m.\u001b[39mparameters()])\n",
      "File \u001b[0;32m~/.local/lib/python3.10/site-packages/torch/_tensor.py:487\u001b[0m, in \u001b[0;36mTensor.backward\u001b[0;34m(self, gradient, retain_graph, create_graph, inputs)\u001b[0m\n\u001b[1;32m    477\u001b[0m \u001b[38;5;28;01mif\u001b[39;00m has_torch_function_unary(\u001b[38;5;28mself\u001b[39m):\n\u001b[1;32m    478\u001b[0m     \u001b[38;5;28;01mreturn\u001b[39;00m handle_torch_function(\n\u001b[1;32m    479\u001b[0m         Tensor\u001b[38;5;241m.\u001b[39mbackward,\n\u001b[1;32m    480\u001b[0m         (\u001b[38;5;28mself\u001b[39m,),\n\u001b[0;32m   (...)\u001b[0m\n\u001b[1;32m    485\u001b[0m         inputs\u001b[38;5;241m=\u001b[39minputs,\n\u001b[1;32m    486\u001b[0m     )\n\u001b[0;32m--> 487\u001b[0m \u001b[43mtorch\u001b[49m\u001b[38;5;241;43m.\u001b[39;49m\u001b[43mautograd\u001b[49m\u001b[38;5;241;43m.\u001b[39;49m\u001b[43mbackward\u001b[49m\u001b[43m(\u001b[49m\n\u001b[1;32m    488\u001b[0m \u001b[43m    \u001b[49m\u001b[38;5;28;43mself\u001b[39;49m\u001b[43m,\u001b[49m\u001b[43m \u001b[49m\u001b[43mgradient\u001b[49m\u001b[43m,\u001b[49m\u001b[43m \u001b[49m\u001b[43mretain_graph\u001b[49m\u001b[43m,\u001b[49m\u001b[43m \u001b[49m\u001b[43mcreate_graph\u001b[49m\u001b[43m,\u001b[49m\u001b[43m \u001b[49m\u001b[43minputs\u001b[49m\u001b[38;5;241;43m=\u001b[39;49m\u001b[43minputs\u001b[49m\n\u001b[1;32m    489\u001b[0m \u001b[43m\u001b[49m\u001b[43m)\u001b[49m\n",
      "File \u001b[0;32m~/.local/lib/python3.10/site-packages/torch/autograd/__init__.py:197\u001b[0m, in \u001b[0;36mbackward\u001b[0;34m(tensors, grad_tensors, retain_graph, create_graph, grad_variables, inputs)\u001b[0m\n\u001b[1;32m    192\u001b[0m     retain_graph \u001b[38;5;241m=\u001b[39m create_graph\n\u001b[1;32m    194\u001b[0m \u001b[38;5;66;03m# The reason we repeat same the comment below is that\u001b[39;00m\n\u001b[1;32m    195\u001b[0m \u001b[38;5;66;03m# some Python versions print out the first line of a multi-line function\u001b[39;00m\n\u001b[1;32m    196\u001b[0m \u001b[38;5;66;03m# calls in the traceback and some print out the last line\u001b[39;00m\n\u001b[0;32m--> 197\u001b[0m \u001b[43mVariable\u001b[49m\u001b[38;5;241;43m.\u001b[39;49m\u001b[43m_execution_engine\u001b[49m\u001b[38;5;241;43m.\u001b[39;49m\u001b[43mrun_backward\u001b[49m\u001b[43m(\u001b[49m\u001b[43m  \u001b[49m\u001b[38;5;66;43;03m# Calls into the C++ engine to run the backward pass\u001b[39;49;00m\n\u001b[1;32m    198\u001b[0m \u001b[43m    \u001b[49m\u001b[43mtensors\u001b[49m\u001b[43m,\u001b[49m\u001b[43m \u001b[49m\u001b[43mgrad_tensors_\u001b[49m\u001b[43m,\u001b[49m\u001b[43m \u001b[49m\u001b[43mretain_graph\u001b[49m\u001b[43m,\u001b[49m\u001b[43m \u001b[49m\u001b[43mcreate_graph\u001b[49m\u001b[43m,\u001b[49m\u001b[43m \u001b[49m\u001b[43minputs\u001b[49m\u001b[43m,\u001b[49m\n\u001b[1;32m    199\u001b[0m \u001b[43m    \u001b[49m\u001b[43mallow_unreachable\u001b[49m\u001b[38;5;241;43m=\u001b[39;49m\u001b[38;5;28;43;01mTrue\u001b[39;49;00m\u001b[43m,\u001b[49m\u001b[43m \u001b[49m\u001b[43maccumulate_grad\u001b[49m\u001b[38;5;241;43m=\u001b[39;49m\u001b[38;5;28;43;01mTrue\u001b[39;49;00m\u001b[43m)\u001b[49m\n",
      "\u001b[0;31mRuntimeError\u001b[0m: element 0 of tensors does not require grad and does not have a grad_fn"
     ]
    }
   ],
   "source": [
    "optimizer = torch.optim.SGD(model.parameters(), lr = 0.02)\n",
    "t = torch.rand((batch_size,1))\n",
    "t.requires_grad=True\n",
    "upred = model(t)\n",
    "u_prime = torch.autograd.grad(upred, t, grad_outputs = torch.ones_like(t), retain_graph=True)\n",
    "l = torch.mean(u_prime[0])\n",
    "optimizer.zero_grad()\n",
    "l.backward()\n",
    "print([param.grad for param in model.parameters()]"
   ]
  },
  {
   "cell_type": "markdown",
   "id": "4343a905-06f4-432a-855d-af88a32c8cd0",
   "metadata": {},
   "source": [
    "Note the runtimeError, since the graph of residual with respect to the parameters are not created, it reports the error that the parameter tensors does not require grad."
   ]
  },
  {
   "cell_type": "markdown",
   "id": "746a91d3-d69f-4720-9ddf-69b186146a1a",
   "metadata": {},
   "source": [
    "Now we could train our model, below gives the implementation of gradient descent we mentioned above, but we will use the `nn.optim` package to train the `model`"
   ]
  },
  {
   "cell_type": "markdown",
   "id": "34bde978-4638-4c9f-9b86-e9e6f8beade0",
   "metadata": {},
   "source": [
    "```python\n",
    "def train(model,epochs):\n",
    "    steps = 30\n",
    "    batch_size = 100\n",
    "    t0 = torch.zeros((1,1))\n",
    "    u0 = torch.zeros((1,1))\n",
    "    for j in range(epochs):\n",
    "        for i in range(steps):\n",
    "            t = torch.rand((batch_size,1))\n",
    "            loss = Loss(model, t, u0, t0)\n",
    "            \n",
    "            # Zero the gradients before running the backward pass.\n",
    "            model.zero_grad()\n",
    "\n",
    "            # Backward pass: compute gradient of the loss with respect to all the learnable\n",
    "            # parameters of the model. Internally, the parameters of each Module are stored\n",
    "            # in Tensors with requires_grad=True, so this call will compute gradients for\n",
    "            # all learnable parameters in the model.\n",
    "            loss.backward()\n",
    "\n",
    "            # Update the weights using gradient descent. Each parameter is a Tensor, so\n",
    "            # we can access its gradients.\n",
    "            with torch.no_grad():            \n",
    "                for param in model.parameters():\n",
    "                    param -= learning_rate * param.grad   \n",
    "\n",
    "```"
   ]
  },
  {
   "cell_type": "code",
   "execution_count": 41,
   "id": "5974b487-e541-40a9-93d5-d3723dfb36a7",
   "metadata": {},
   "outputs": [],
   "source": [
    "def train(epochs):\n",
    "    epochs=50\n",
    "    steps = 100\n",
    "    batch_size = 100\n",
    "    t0 = torch.zeros((1,1))\n",
    "    u0 = torch.ones((1,1))\n",
    "    optimizer = torch.optim.SGD(model.parameters(), lr = 0.02)\n",
    "    for j in range(epochs):\n",
    "        L = []\n",
    "        for i in range(steps):\n",
    "            # since we need to compute the gradient with respec to t\n",
    "            # we need to set the attribute requires_grad=True\n",
    "            t = torch.rand((batch_size,1))\n",
    "            t.requires_grad=True\n",
    "            l = Loss(t, u0, t0)\n",
    "\n",
    "            # Zero the gradients before running the backward pass.\n",
    "            optimizer.zero_grad()\n",
    "            l.backward()\n",
    "            optimizer.step()\n",
    "            L.append(l.item())\n",
    "        print('Epoch:{}=====Loss:{}'.format(j + 1, sum(L)/len(L)))\n",
    "\n"
   ]
  },
  {
   "cell_type": "code",
   "execution_count": 39,
   "id": "95ecd7a9-c0ae-4ec4-8fb9-0df76bcd3c76",
   "metadata": {},
   "outputs": [],
   "source": [
    "def predict(model):\n",
    "    t = torch.linspace(0, 1, 100).view((-1,1))\n",
    "    pred = model(t)\n",
    "    exact = torch.exp(t)\n",
    "    import matplotlib.pyplot as plt\n",
    "    plt.figure()\n",
    "    plt.plot(t, exact, label='Exact')\n",
    "    plt.plot(t, pred.detach().numpy(),'--', label='pred')\n",
    "    plt.show()\n",
    "    plt.close()"
   ]
  },
  {
   "cell_type": "code",
   "execution_count": 42,
   "id": "9b7c35e4-6b3f-4103-95d5-976e6b9af437",
   "metadata": {},
   "outputs": [
    {
     "name": "stdout",
     "output_type": "stream",
     "text": [
      "Epoch:1=====Loss:0.004074094956740737\n",
      "Epoch:2=====Loss:0.0038685844046995044\n",
      "Epoch:3=====Loss:0.0039007688965648412\n",
      "Epoch:4=====Loss:0.003718803892843425\n",
      "Epoch:5=====Loss:0.003698199603240937\n",
      "Epoch:6=====Loss:0.0035428230254910885\n",
      "Epoch:7=====Loss:0.0034429417038336395\n",
      "Epoch:8=====Loss:0.0034027533046901226\n",
      "Epoch:9=====Loss:0.0033110639383085072\n",
      "Epoch:10=====Loss:0.0032857614755630493\n",
      "Epoch:11=====Loss:0.0032457706658169626\n",
      "Epoch:12=====Loss:0.003125250298762694\n",
      "Epoch:13=====Loss:0.0031054871040396394\n",
      "Epoch:14=====Loss:0.0029810819355770945\n",
      "Epoch:15=====Loss:0.0029422681347932664\n",
      "Epoch:16=====Loss:0.002984375755768269\n",
      "Epoch:17=====Loss:0.0029689159709960222\n",
      "Epoch:18=====Loss:0.0028361188957933335\n",
      "Epoch:19=====Loss:0.002828492691041902\n",
      "Epoch:20=====Loss:0.0027768662804737686\n",
      "Epoch:21=====Loss:0.002697467702673748\n",
      "Epoch:22=====Loss:0.0026630342181306332\n",
      "Epoch:23=====Loss:0.0025966416264418513\n",
      "Epoch:24=====Loss:0.002580357356928289\n",
      "Epoch:25=====Loss:0.0025786387792322784\n",
      "Epoch:26=====Loss:0.0024735858535859735\n",
      "Epoch:27=====Loss:0.0024951885733753443\n",
      "Epoch:28=====Loss:0.002448404476745054\n",
      "Epoch:29=====Loss:0.0023550649092067034\n",
      "Epoch:30=====Loss:0.002326355853583664\n",
      "Epoch:31=====Loss:0.0022744213277474047\n",
      "Epoch:32=====Loss:0.002280865985667333\n",
      "Epoch:33=====Loss:0.0022489153605420144\n",
      "Epoch:34=====Loss:0.002241399242775515\n",
      "Epoch:35=====Loss:0.002160061973845586\n",
      "Epoch:36=====Loss:0.0020992124860640614\n",
      "Epoch:37=====Loss:0.0020657071575988085\n",
      "Epoch:38=====Loss:0.0020502256450708957\n",
      "Epoch:39=====Loss:0.0020422755123581738\n",
      "Epoch:40=====Loss:0.0020380339096300304\n",
      "Epoch:41=====Loss:0.0020263822237029674\n",
      "Epoch:42=====Loss:0.001969475329387933\n",
      "Epoch:43=====Loss:0.001961602735100314\n",
      "Epoch:44=====Loss:0.0019076389819383621\n",
      "Epoch:45=====Loss:0.0018908733723219484\n",
      "Epoch:46=====Loss:0.0018872638524044306\n",
      "Epoch:47=====Loss:0.0018464001873508096\n",
      "Epoch:48=====Loss:0.0017926154122687877\n",
      "Epoch:49=====Loss:0.001749275578185916\n",
      "Epoch:50=====Loss:0.0018106246250681579\n"
     ]
    }
   ],
   "source": [
    "train(100)"
   ]
  },
  {
   "cell_type": "code",
   "execution_count": 43,
   "id": "99e3a269-c654-465e-ab19-c85d0aa16d18",
   "metadata": {},
   "outputs": [
    {
     "data": {
      "image/png": "[encoded data removed]",
      "text/plain": [
       "<Figure size 640x480 with 1 Axes>"
      ]
     },
     "metadata": {},
     "output_type": "display_data"
    }
   ],
   "source": [
    "predict(model)"
   ]
  },
  {
   "cell_type": "markdown",
   "id": "72a90a96-c758-401f-acef-6ccd1e71634c",
   "metadata": {},
   "source": [
    "### Section III: Settings for the ManeFrame II"
   ]
  },
  {
   "cell_type": "markdown",
   "id": "e2f39b88-bad3-4b1f-aab4-edc2daf841bd",
   "metadata": {},
   "source": [
    "Built the following Conda environment\n",
    "\n",
    "    module load spack\n",
    "\n",
    "    module load gcc-9.2\n",
    "\n",
    "    module load python/3\n",
    "\n",
    "    module load cuda-11.4.2-gcc-9.2.0-nxqfgxj \n",
    "\n",
    "    module load cudnn-8.2.4.15-11.4-gcc-9.2.0-tfeuowy\n",
    "\n",
    " \n",
    "\n",
    "    conda create --name **Env(Name of Environment)** numpy matplotlib jupyterlab(package you want) python=3.9(python version) --channel conda-forge\n",
    "\n",
    "    conda activate Env\n",
    "\n",
    "    pip install torch torchvision torchaudio --extra-index-url https://download.pytorch.org/whl/cu113\n",
    " \n",
    "\n",
    "You’ll need to load the modules before you run everything. The cuda libraries are installed with spack, so loading spack makes them show up as available. Gcc is technically not necessary, but the default system compiler is pretty old and sometimes causes problem so I like to load a newer compiler. The python/3 module is to make a version of Conda available (you can install your own Miniconda or similar if you want more control.) Finally, cuda and cudnn are needed by tensorflow and Jax to use the GPUs (I believe these are the newest versions our current drivers will support).\n",
    "\n",
    " \n",
    "\n",
    "If you are using the web portal, then you’ll want to put something like the following in the “Custom environment settings”\n",
    "\n",
    " \n",
    "\n",
    "    module load spack\n",
    "\n",
    "    module load gcc-9.2\n",
    "\n",
    "    module load python/3\n",
    "\n",
    "    module load cuda-11.4.2-gcc-9.2.0-nxqfgxj\n",
    "\n",
    "    module load cudnn-8.2.4.15-11.4-gcc-9.2.0-tfeuowy\n",
    "\n",
    "    eval \"$(conda shell.bash hook)\"\n",
    "\n",
    "    conda activate Env\n",
    "\n",
    " \n",
    "\n",
    "The “eval” line makes sure the conda commands are available and then the last line activates the conda environment build above (feel free to change the name to whatever you’d like.)\n"
   ]
  },
  {
   "cell_type": "code",
   "execution_count": null,
   "id": "db6b514e-3509-4dad-8b9c-6aaf5d1c50a1",
   "metadata": {},
   "outputs": [],
   "source": []
  }
 ],
 "metadata": {
  "kernelspec": {
   "display_name": "Python 3 (ipykernel)",
   "language": "python",
   "name": "python3"
  },
  "language_info": {
   "codemirror_mode": {
    "name": "ipython",
    "version": 3
   },
   "file_extension": ".py",
   "mimetype": "text/x-python",
   "name": "python",
   "nbconvert_exporter": "python",
   "pygments_lexer": "ipython3",
   "version": "3.10.8"
  }
 },
 "nbformat": 4,
 "nbformat_minor": 5
}
